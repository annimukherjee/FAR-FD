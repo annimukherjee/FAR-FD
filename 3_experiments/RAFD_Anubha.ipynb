{
  "cells": [
    {
      "cell_type": "code",
      "execution_count": 67,
      "metadata": {
        "id": "vLGyxxRwcNFq"
      },
      "outputs": [],
      "source": [
        "import torch\n",
        "import torch.nn as nn\n",
        "import pandas as pd\n",
        "import matplotlib.pyplot as plt\n",
        "import numpy as np\n",
        "import faiss\n"
      ]
    },
    {
      "cell_type": "code",
      "execution_count": 68,
      "metadata": {
        "colab": {
          "base_uri": "https://localhost:8080/"
        },
        "id": "pCdTUn0Zbt7O",
        "outputId": "319cd6c1-35bb-49e0-d242-9ba54812b565"
      },
      "outputs": [
        {
          "name": "stdout",
          "output_type": "stream",
          "text": [
            "(118108, 32)\n"
          ]
        }
      ],
      "source": [
        "# Loading all embeddings (which were gotten from SAINT)\n",
        "\n",
        "path = \"../5_embeddings/cls_embeddings_time.struct_time(tm_year=2025, tm_mon=2, tm_mday=7, tm_hour=19, tm_min=40, tm_sec=22, tm_wday=4, tm_yday=38, tm_isdst=0).npy\"\n",
        "cls_embeddings = np.load(path)\n",
        "\n",
        "print(cls_embeddings.shape)"
      ]
    },
    {
      "cell_type": "code",
      "execution_count": 69,
      "metadata": {},
      "outputs": [
        {
          "data": {
            "text/html": [
              "<div>\n",
              "<style scoped>\n",
              "    .dataframe tbody tr th:only-of-type {\n",
              "        vertical-align: middle;\n",
              "    }\n",
              "\n",
              "    .dataframe tbody tr th {\n",
              "        vertical-align: top;\n",
              "    }\n",
              "\n",
              "    .dataframe thead th {\n",
              "        text-align: right;\n",
              "    }\n",
              "</style>\n",
              "<table border=\"1\" class=\"dataframe\">\n",
              "  <thead>\n",
              "    <tr style=\"text-align: right;\">\n",
              "      <th></th>\n",
              "      <th>cls</th>\n",
              "      <th>ProductCD</th>\n",
              "      <th>card4</th>\n",
              "      <th>card6</th>\n",
              "      <th>P_emaildomain</th>\n",
              "      <th>Unnamed: 0</th>\n",
              "      <th>TransactionDT</th>\n",
              "      <th>TransactionAmt</th>\n",
              "      <th>card1</th>\n",
              "      <th>card2</th>\n",
              "      <th>...</th>\n",
              "      <th>V312</th>\n",
              "      <th>V313</th>\n",
              "      <th>V314</th>\n",
              "      <th>V315</th>\n",
              "      <th>V316</th>\n",
              "      <th>V317</th>\n",
              "      <th>V318</th>\n",
              "      <th>V319</th>\n",
              "      <th>V320</th>\n",
              "      <th>V321</th>\n",
              "    </tr>\n",
              "  </thead>\n",
              "  <tbody>\n",
              "    <tr>\n",
              "      <th>0</th>\n",
              "      <td>0</td>\n",
              "      <td>4</td>\n",
              "      <td>2</td>\n",
              "      <td>1</td>\n",
              "      <td>2</td>\n",
              "      <td>-0.291883</td>\n",
              "      <td>-0.329939</td>\n",
              "      <td>0.108390</td>\n",
              "      <td>-0.145421</td>\n",
              "      <td>-0.399322</td>\n",
              "      <td>...</td>\n",
              "      <td>-0.227583</td>\n",
              "      <td>-0.222385</td>\n",
              "      <td>-0.249222</td>\n",
              "      <td>-0.229148</td>\n",
              "      <td>-0.048377</td>\n",
              "      <td>-0.062211</td>\n",
              "      <td>-0.058049</td>\n",
              "      <td>-0.055287</td>\n",
              "      <td>-0.088855</td>\n",
              "      <td>-0.074142</td>\n",
              "    </tr>\n",
              "    <tr>\n",
              "      <th>1</th>\n",
              "      <td>0</td>\n",
              "      <td>4</td>\n",
              "      <td>3</td>\n",
              "      <td>2</td>\n",
              "      <td>16</td>\n",
              "      <td>0.892993</td>\n",
              "      <td>0.871243</td>\n",
              "      <td>-0.359702</td>\n",
              "      <td>0.680504</td>\n",
              "      <td>-0.412094</td>\n",
              "      <td>...</td>\n",
              "      <td>-0.030054</td>\n",
              "      <td>-0.222385</td>\n",
              "      <td>-0.249222</td>\n",
              "      <td>-0.229148</td>\n",
              "      <td>-0.048377</td>\n",
              "      <td>-0.062211</td>\n",
              "      <td>-0.058049</td>\n",
              "      <td>-0.055287</td>\n",
              "      <td>-0.088855</td>\n",
              "      <td>-0.074142</td>\n",
              "    </tr>\n",
              "    <tr>\n",
              "      <th>2</th>\n",
              "      <td>0</td>\n",
              "      <td>4</td>\n",
              "      <td>2</td>\n",
              "      <td>2</td>\n",
              "      <td>1</td>\n",
              "      <td>-1.594876</td>\n",
              "      <td>-1.467121</td>\n",
              "      <td>8.134522</td>\n",
              "      <td>-0.109308</td>\n",
              "      <td>0.711822</td>\n",
              "      <td>...</td>\n",
              "      <td>-0.227583</td>\n",
              "      <td>-0.222385</td>\n",
              "      <td>-0.249222</td>\n",
              "      <td>-0.229148</td>\n",
              "      <td>-0.048377</td>\n",
              "      <td>-0.062211</td>\n",
              "      <td>-0.058049</td>\n",
              "      <td>-0.055287</td>\n",
              "      <td>-0.088855</td>\n",
              "      <td>-0.074142</td>\n",
              "    </tr>\n",
              "    <tr>\n",
              "      <th>3</th>\n",
              "      <td>0</td>\n",
              "      <td>4</td>\n",
              "      <td>3</td>\n",
              "      <td>2</td>\n",
              "      <td>19</td>\n",
              "      <td>-0.123148</td>\n",
              "      <td>-0.156138</td>\n",
              "      <td>-0.422421</td>\n",
              "      <td>1.487250</td>\n",
              "      <td>-0.265218</td>\n",
              "      <td>...</td>\n",
              "      <td>0.341765</td>\n",
              "      <td>-0.222385</td>\n",
              "      <td>-0.249222</td>\n",
              "      <td>-0.229148</td>\n",
              "      <td>-0.048377</td>\n",
              "      <td>-0.062211</td>\n",
              "      <td>-0.058049</td>\n",
              "      <td>-0.055287</td>\n",
              "      <td>-0.088855</td>\n",
              "      <td>-0.074142</td>\n",
              "    </tr>\n",
              "    <tr>\n",
              "      <th>4</th>\n",
              "      <td>0</td>\n",
              "      <td>4</td>\n",
              "      <td>3</td>\n",
              "      <td>2</td>\n",
              "      <td>16</td>\n",
              "      <td>1.611964</td>\n",
              "      <td>1.677853</td>\n",
              "      <td>-0.317889</td>\n",
              "      <td>-0.081355</td>\n",
              "      <td>-0.265218</td>\n",
              "      <td>...</td>\n",
              "      <td>-0.227583</td>\n",
              "      <td>-0.222385</td>\n",
              "      <td>-0.249222</td>\n",
              "      <td>-0.229148</td>\n",
              "      <td>-0.048377</td>\n",
              "      <td>-0.062211</td>\n",
              "      <td>-0.058049</td>\n",
              "      <td>-0.055287</td>\n",
              "      <td>-0.088855</td>\n",
              "      <td>-0.074142</td>\n",
              "    </tr>\n",
              "    <tr>\n",
              "      <th>...</th>\n",
              "      <td>...</td>\n",
              "      <td>...</td>\n",
              "      <td>...</td>\n",
              "      <td>...</td>\n",
              "      <td>...</td>\n",
              "      <td>...</td>\n",
              "      <td>...</td>\n",
              "      <td>...</td>\n",
              "      <td>...</td>\n",
              "      <td>...</td>\n",
              "      <td>...</td>\n",
              "      <td>...</td>\n",
              "      <td>...</td>\n",
              "      <td>...</td>\n",
              "      <td>...</td>\n",
              "      <td>...</td>\n",
              "      <td>...</td>\n",
              "      <td>...</td>\n",
              "      <td>...</td>\n",
              "      <td>...</td>\n",
              "      <td>...</td>\n",
              "    </tr>\n",
              "    <tr>\n",
              "      <th>76765</th>\n",
              "      <td>0</td>\n",
              "      <td>4</td>\n",
              "      <td>3</td>\n",
              "      <td>2</td>\n",
              "      <td>16</td>\n",
              "      <td>-1.327921</td>\n",
              "      <td>-1.260784</td>\n",
              "      <td>-0.113217</td>\n",
              "      <td>-0.653259</td>\n",
              "      <td>-1.606254</td>\n",
              "      <td>...</td>\n",
              "      <td>1.009878</td>\n",
              "      <td>-0.222385</td>\n",
              "      <td>-0.249222</td>\n",
              "      <td>-0.229148</td>\n",
              "      <td>-0.048377</td>\n",
              "      <td>-0.062211</td>\n",
              "      <td>-0.058049</td>\n",
              "      <td>-0.055287</td>\n",
              "      <td>-0.088855</td>\n",
              "      <td>-0.074142</td>\n",
              "    </tr>\n",
              "    <tr>\n",
              "      <th>76766</th>\n",
              "      <td>0</td>\n",
              "      <td>4</td>\n",
              "      <td>2</td>\n",
              "      <td>2</td>\n",
              "      <td>25</td>\n",
              "      <td>0.675641</td>\n",
              "      <td>0.648266</td>\n",
              "      <td>-0.075376</td>\n",
              "      <td>-0.002802</td>\n",
              "      <td>0.756523</td>\n",
              "      <td>...</td>\n",
              "      <td>-0.227583</td>\n",
              "      <td>-0.222385</td>\n",
              "      <td>-0.249222</td>\n",
              "      <td>-0.229148</td>\n",
              "      <td>-0.048377</td>\n",
              "      <td>-0.062211</td>\n",
              "      <td>-0.058049</td>\n",
              "      <td>-0.055287</td>\n",
              "      <td>-0.088855</td>\n",
              "      <td>-0.074142</td>\n",
              "    </tr>\n",
              "    <tr>\n",
              "      <th>76767</th>\n",
              "      <td>0</td>\n",
              "      <td>4</td>\n",
              "      <td>1</td>\n",
              "      <td>1</td>\n",
              "      <td>16</td>\n",
              "      <td>0.418154</td>\n",
              "      <td>0.377752</td>\n",
              "      <td>0.150412</td>\n",
              "      <td>-1.485918</td>\n",
              "      <td>-0.226903</td>\n",
              "      <td>...</td>\n",
              "      <td>-0.227583</td>\n",
              "      <td>0.393449</td>\n",
              "      <td>0.090945</td>\n",
              "      <td>0.276274</td>\n",
              "      <td>-0.048377</td>\n",
              "      <td>-0.062211</td>\n",
              "      <td>-0.058049</td>\n",
              "      <td>-0.055287</td>\n",
              "      <td>-0.088855</td>\n",
              "      <td>-0.074142</td>\n",
              "    </tr>\n",
              "    <tr>\n",
              "      <th>76768</th>\n",
              "      <td>0</td>\n",
              "      <td>4</td>\n",
              "      <td>3</td>\n",
              "      <td>2</td>\n",
              "      <td>19</td>\n",
              "      <td>0.605578</td>\n",
              "      <td>0.576883</td>\n",
              "      <td>-0.322279</td>\n",
              "      <td>-0.182963</td>\n",
              "      <td>0.577719</td>\n",
              "      <td>...</td>\n",
              "      <td>-0.227583</td>\n",
              "      <td>-0.222385</td>\n",
              "      <td>-0.249222</td>\n",
              "      <td>-0.229148</td>\n",
              "      <td>-0.048377</td>\n",
              "      <td>-0.062211</td>\n",
              "      <td>-0.058049</td>\n",
              "      <td>-0.055287</td>\n",
              "      <td>-0.088855</td>\n",
              "      <td>-0.074142</td>\n",
              "    </tr>\n",
              "    <tr>\n",
              "      <th>76769</th>\n",
              "      <td>0</td>\n",
              "      <td>4</td>\n",
              "      <td>3</td>\n",
              "      <td>2</td>\n",
              "      <td>53</td>\n",
              "      <td>0.944849</td>\n",
              "      <td>0.929392</td>\n",
              "      <td>-0.317889</td>\n",
              "      <td>1.061025</td>\n",
              "      <td>1.229079</td>\n",
              "      <td>...</td>\n",
              "      <td>-0.227583</td>\n",
              "      <td>0.393449</td>\n",
              "      <td>0.090945</td>\n",
              "      <td>0.276274</td>\n",
              "      <td>-0.048377</td>\n",
              "      <td>-0.062211</td>\n",
              "      <td>-0.058049</td>\n",
              "      <td>-0.055287</td>\n",
              "      <td>-0.088855</td>\n",
              "      <td>-0.074142</td>\n",
              "    </tr>\n",
              "  </tbody>\n",
              "</table>\n",
              "<p>76770 rows × 182 columns</p>\n",
              "</div>"
            ],
            "text/plain": [
              "       cls  ProductCD  card4  card6  P_emaildomain  Unnamed: 0  TransactionDT  \\\n",
              "0        0          4      2      1              2   -0.291883      -0.329939   \n",
              "1        0          4      3      2             16    0.892993       0.871243   \n",
              "2        0          4      2      2              1   -1.594876      -1.467121   \n",
              "3        0          4      3      2             19   -0.123148      -0.156138   \n",
              "4        0          4      3      2             16    1.611964       1.677853   \n",
              "...    ...        ...    ...    ...            ...         ...            ...   \n",
              "76765    0          4      3      2             16   -1.327921      -1.260784   \n",
              "76766    0          4      2      2             25    0.675641       0.648266   \n",
              "76767    0          4      1      1             16    0.418154       0.377752   \n",
              "76768    0          4      3      2             19    0.605578       0.576883   \n",
              "76769    0          4      3      2             53    0.944849       0.929392   \n",
              "\n",
              "       TransactionAmt     card1     card2  ...      V312      V313      V314  \\\n",
              "0            0.108390 -0.145421 -0.399322  ... -0.227583 -0.222385 -0.249222   \n",
              "1           -0.359702  0.680504 -0.412094  ... -0.030054 -0.222385 -0.249222   \n",
              "2            8.134522 -0.109308  0.711822  ... -0.227583 -0.222385 -0.249222   \n",
              "3           -0.422421  1.487250 -0.265218  ...  0.341765 -0.222385 -0.249222   \n",
              "4           -0.317889 -0.081355 -0.265218  ... -0.227583 -0.222385 -0.249222   \n",
              "...               ...       ...       ...  ...       ...       ...       ...   \n",
              "76765       -0.113217 -0.653259 -1.606254  ...  1.009878 -0.222385 -0.249222   \n",
              "76766       -0.075376 -0.002802  0.756523  ... -0.227583 -0.222385 -0.249222   \n",
              "76767        0.150412 -1.485918 -0.226903  ... -0.227583  0.393449  0.090945   \n",
              "76768       -0.322279 -0.182963  0.577719  ... -0.227583 -0.222385 -0.249222   \n",
              "76769       -0.317889  1.061025  1.229079  ... -0.227583  0.393449  0.090945   \n",
              "\n",
              "           V315      V316      V317      V318      V319      V320      V321  \n",
              "0     -0.229148 -0.048377 -0.062211 -0.058049 -0.055287 -0.088855 -0.074142  \n",
              "1     -0.229148 -0.048377 -0.062211 -0.058049 -0.055287 -0.088855 -0.074142  \n",
              "2     -0.229148 -0.048377 -0.062211 -0.058049 -0.055287 -0.088855 -0.074142  \n",
              "3     -0.229148 -0.048377 -0.062211 -0.058049 -0.055287 -0.088855 -0.074142  \n",
              "4     -0.229148 -0.048377 -0.062211 -0.058049 -0.055287 -0.088855 -0.074142  \n",
              "...         ...       ...       ...       ...       ...       ...       ...  \n",
              "76765 -0.229148 -0.048377 -0.062211 -0.058049 -0.055287 -0.088855 -0.074142  \n",
              "76766 -0.229148 -0.048377 -0.062211 -0.058049 -0.055287 -0.088855 -0.074142  \n",
              "76767  0.276274 -0.048377 -0.062211 -0.058049 -0.055287 -0.088855 -0.074142  \n",
              "76768 -0.229148 -0.048377 -0.062211 -0.058049 -0.055287 -0.088855 -0.074142  \n",
              "76769  0.276274 -0.048377 -0.062211 -0.058049 -0.055287 -0.088855 -0.074142  \n",
              "\n",
              "[76770 rows x 182 columns]"
            ]
          },
          "execution_count": 69,
          "metadata": {},
          "output_type": "execute_result"
        }
      ],
      "source": [
        "train_df = pd.read_csv(\"../2_dataset/final/train_df.csv\")\n",
        "train_df"
      ]
    },
    {
      "cell_type": "code",
      "execution_count": 70,
      "metadata": {},
      "outputs": [
        {
          "data": {
            "text/plain": [
              "(76770, 1)"
            ]
          },
          "execution_count": 70,
          "metadata": {},
          "output_type": "execute_result"
        }
      ],
      "source": [
        "train_y = pd.read_csv(\"../2_dataset/final/train_y_df.csv\")\n",
        "train_y.shape"
      ]
    },
    {
      "cell_type": "code",
      "execution_count": 71,
      "metadata": {},
      "outputs": [
        {
          "data": {
            "text/plain": [
              "(23622, 182)"
            ]
          },
          "execution_count": 71,
          "metadata": {},
          "output_type": "execute_result"
        }
      ],
      "source": [
        "test_df = pd.read_csv(\"../2_dataset/final/test_df.csv\")\n",
        "test_df.shape\n"
      ]
    },
    {
      "cell_type": "code",
      "execution_count": 98,
      "metadata": {},
      "outputs": [],
      "source": [
        "test_y = pd.read_csv(\"../2_dataset/final/test_y_df.csv\")\n",
        "test_y['isFraud'] = test_y['isFraud'].astype(np.float32)"
      ]
    },
    {
      "cell_type": "code",
      "execution_count": 103,
      "metadata": {},
      "outputs": [],
      "source": [
        "val_df = pd.read_csv(\"../2_dataset/final/val_df.csv\")\n",
        "val_y = pd.read_csv(\"../2_dataset/final/val_y_df.csv\")"
      ]
    },
    {
      "cell_type": "code",
      "execution_count": 100,
      "metadata": {},
      "outputs": [
        {
          "data": {
            "text/plain": [
              "((76770, 1), (76770, 182))"
            ]
          },
          "execution_count": 100,
          "metadata": {},
          "output_type": "execute_result"
        }
      ],
      "source": [
        "train_y.shape, train_df.shape"
      ]
    },
    {
      "cell_type": "code",
      "execution_count": 101,
      "metadata": {},
      "outputs": [
        {
          "data": {
            "text/plain": [
              "((23622, 1), (23622, 182))"
            ]
          },
          "execution_count": 101,
          "metadata": {},
          "output_type": "execute_result"
        }
      ],
      "source": [
        "test_y.shape, test_df.shape"
      ]
    },
    {
      "cell_type": "code",
      "execution_count": 104,
      "metadata": {},
      "outputs": [
        {
          "data": {
            "text/plain": [
              "((17716, 1), (17716, 182))"
            ]
          },
          "execution_count": 104,
          "metadata": {},
          "output_type": "execute_result"
        }
      ],
      "source": [
        "val_y.shape, val_df.shape"
      ]
    },
    {
      "cell_type": "markdown",
      "metadata": {},
      "source": [
        "#### Splitting embeddings"
      ]
    },
    {
      "cell_type": "code",
      "execution_count": 108,
      "metadata": {},
      "outputs": [
        {
          "name": "stdout",
          "output_type": "stream",
          "text": [
            "Total embeddings shape: (118108, 32)\n",
            "Train embeddings shape: (76770, 32)\n",
            "Val embeddings shape: (17716, 32)\n",
            "Test embeddings shape: (23622, 32)\n"
          ]
        }
      ],
      "source": [
        "# Compute 65% of the total rows\n",
        "total_rows = cls_embeddings.shape[0]\n",
        "train_size = int(0.65 * total_rows)  # 65% of 118108\n",
        "test_size = int(0.8 * total_rows)\n",
        "\n",
        "# Slice the top 65%\n",
        "train_embeddings = cls_embeddings[:train_size]\n",
        "val_embeddings = cls_embeddings[train_size:test_size]\n",
        "test_embeddings = cls_embeddings[test_size:]\n",
        "\n",
        "print(f\"Total embeddings shape: {cls_embeddings.shape}\")\n",
        "print(f\"Train embeddings shape: {train_embeddings.shape}\")\n",
        "print(f\"Val embeddings shape: {val_embeddings.shape}\")\n",
        "print(f\"Test embeddings shape: {test_embeddings.shape}\")"
      ]
    },
    {
      "cell_type": "markdown",
      "metadata": {},
      "source": [
        "#### faiss index and similarity search"
      ]
    },
    {
      "cell_type": "code",
      "execution_count": 78,
      "metadata": {
        "colab": {
          "base_uri": "https://localhost:8080/"
        },
        "id": "OA6ULff8bxV-",
        "outputId": "33b81774-3e8c-48c4-cd3a-f81370fc6775"
      },
      "outputs": [],
      "source": [
        "def create_index(num_embeddings, dimension):\n",
        "    # num_embeddings = 76770\n",
        "    # dimension = 32\n",
        "    index = faiss.IndexFlatL2(dimension)  # L2 similarity\n",
        "    index.add(train_embeddings)  # index of pre-computed embeddings\n",
        "\n",
        "    return index"
      ]
    },
    {
      "cell_type": "code",
      "execution_count": 79,
      "metadata": {},
      "outputs": [],
      "source": [
        "def search_faiss(query_vector):\n",
        "    index = create_index(76770, 32)\n",
        "\n",
        "    # Convert PyTorch tensor to NumPy\n",
        "    if isinstance(query_vector, torch.Tensor):\n",
        "        query_vector = query_vector.detach().cpu().numpy()\n",
        "\n",
        "    query_vector = query_vector.astype(\"float32\").reshape(1, -1)\n",
        "    query_vector = query_vector.astype(\"float32\").reshape(1, -1)\n",
        "\n",
        "    # k = 120, As best result for 120\n",
        "    distances, indices = index.search(\n",
        "        query_vector, k=120\n",
        "        )   # by default using euclidean distance for similarity\n",
        "    \n",
        "    indices = indices.flatten()\n",
        "    return distances, indices"
      ]
    },
    {
      "cell_type": "markdown",
      "metadata": {},
      "source": [
        "#### L2 distance component"
      ]
    },
    {
      "cell_type": "code",
      "execution_count": 93,
      "metadata": {
        "id": "WJLNSJdcbznQ"
      },
      "outputs": [],
      "source": [
        "def compute_similarity(distances, dropout=0.2):\n",
        "\n",
        "    distances = distances.flatten()\n",
        "    # Apply softmax to the negative distances\n",
        "    similarities = np.exp(-distances)\n",
        "    softmax_scores = similarities / np.sum(similarities)\n",
        "\n",
        "    # Apply dropout (randomly zero out some softmax scores)\n",
        "    dropout_mask = np.random.binomial(1, 1 - dropout, size=softmax_scores.shape)\n",
        "    dropped_softmax_scores = softmax_scores * dropout_mask\n",
        "\n",
        "    # Renormilizing softmax scores so that they sum to 1 again.\n",
        "    final_softmax = dropped_softmax_scores / np.sum(dropped_softmax_scores)\n",
        "\n",
        "    # how to weigh in the final embedding? -> weigh emebedding more if they are closer in vector space.\n",
        "    return final_softmax, distances"
      ]
    },
    {
      "cell_type": "markdown",
      "metadata": {},
      "source": [
        "#### mask to drop the dropped out values"
      ]
    },
    {
      "cell_type": "code",
      "execution_count": 81,
      "metadata": {},
      "outputs": [],
      "source": [
        "def filter_by_mask(arr1, arr2, arr3):\n",
        "    \"\"\"\n",
        "    Removes elements from arr2 and arr3 where corresponding indices in arr1 are zero.\n",
        "    \"\"\"\n",
        "    mask = arr1 != 0  # Create a boolean mask where arr1 is nonzero\n",
        "    return arr1[mask], arr2[mask], arr3[mask]"
      ]
    },
    {
      "cell_type": "markdown",
      "metadata": {},
      "source": [
        "#### linear trasnform the value component"
      ]
    },
    {
      "cell_type": "code",
      "execution_count": 82,
      "metadata": {
        "colab": {
          "base_uri": "https://localhost:8080/"
        },
        "id": "KlB6RGt6cLid",
        "outputId": "27a8197e-bb5c-4bd2-f934-6fcc9eb8cb6f"
      },
      "outputs": [],
      "source": [
        "class MLP_Wv(nn.Module):\n",
        "    def __init__(self, input_dim):\n",
        "        super(MLP_Wv, self).__init__()\n",
        "        self.layer1 = nn.Linear(input_dim, 32)\n",
        "        self.activation1 = nn.SiLU()\n",
        "\n",
        "        self.layer2 = nn.Linear(32, 32)\n",
        "        self.activation2 = nn.SiLU()\n",
        "        self.dropout2 = nn.Dropout(p=0.2)\n",
        "\n",
        "        self.layer3 = nn.Linear(32, 32) \n",
        "        self.activation3 = nn.SiLU()\n",
        "\n",
        "    def forward(self, x):\n",
        "        x = self.activation1(self.layer1(x))\n",
        "        x = self.dropout2(self.activation2(self.layer2(x)))\n",
        "        x = self.activation3(self.layer3(x))\n",
        "        return x"
      ]
    },
    {
      "cell_type": "code",
      "execution_count": 83,
      "metadata": {
        "colab": {
          "base_uri": "https://localhost:8080/"
        },
        "id": "IXAE9Vzwcn2T",
        "outputId": "5541a00b-ec38-4c32-e4c2-0f6f8998f8fc"
      },
      "outputs": [],
      "source": [
        "def compute_l1(distances):\n",
        "    \n",
        "    l1_dist = np.sqrt(distances)\n",
        "    model = MLP_Wv(l1_dist.shape[0])\n",
        "    # Convert input to tensor and pass it through the model\n",
        "    l1_dist_tensor = torch.tensor(l1_dist, dtype=torch.float32)\n",
        "    value_Wv = model(l1_dist_tensor).detach().numpy()\n",
        "\n",
        "    return value_Wv\n"
      ]
    },
    {
      "cell_type": "code",
      "execution_count": 84,
      "metadata": {},
      "outputs": [],
      "source": [
        "class MLP_Wy(nn.Module):\n",
        "    \"\"\"\n",
        "    Instantiate MLP with input_dim=32 (from Wy)\n",
        "    Expected output shape: (60,)\n",
        "    \"\"\"\n",
        "    def __init__(self, input_dim):\n",
        "        super(MLP_Wy, self).__init__()\n",
        "        self.fc1 = nn.Linear(input_dim, 128)  \n",
        "        self.relu = nn.ReLU()\n",
        "        self.fc2 = nn.Linear(128, 32)\n",
        "\n",
        "    def forward(self, x):\n",
        "        x = self.fc1(x)\n",
        "        x = self.relu(x)\n",
        "        x = self.fc2(x)  # Shape (60, 1)\n",
        "        return x.squeeze(1)  # Shape (60,)\n"
      ]
    },
    {
      "cell_type": "code",
      "execution_count": 85,
      "metadata": {},
      "outputs": [],
      "source": [
        "def compute_wy(indices):\n",
        "\n",
        "    y_i = train_y['isFraud'].loc[indices].values\n",
        "    feature_target_tensor = torch.tensor(y_i, dtype=torch.long)\n",
        "\n",
        "    # Define Wy: An embedding layer to map to 32-dim space\n",
        "    embedding_dim = 32\n",
        "    num_classes = 2  # Since input values are 0 or 1\n",
        "\n",
        "    Wy = nn.Embedding(num_classes, embedding_dim)\n",
        "    mlp = MLP_Wy(input_dim=embedding_dim)\n",
        "\n",
        "    # Compute embeddings using Wy\n",
        "    embeddings = Wy(feature_target_tensor)  # Shape: (60, 32)\n",
        "\n",
        "    # Pass embeddings through MLP\n",
        "    value_Wy = mlp(embeddings)  # Shape: (60,)\n",
        "\n",
        "    return value_Wy\n"
      ]
    },
    {
      "cell_type": "code",
      "execution_count": 86,
      "metadata": {},
      "outputs": [],
      "source": [
        "def compute_value(value_Wv, value_Wy):\n",
        "    \"\"\"\n",
        "    Compute the dot product of value_Wv and value_Wy\n",
        "    \"\"\"\n",
        "    value_Wy_npy = value_Wy.detach().numpy()\n",
        "    value = value_Wy_npy + value_Wv\n",
        "    return value\n"
      ]
    },
    {
      "cell_type": "markdown",
      "metadata": {},
      "source": [
        "#### Reshaping S to do S * V"
      ]
    },
    {
      "cell_type": "code",
      "execution_count": 87,
      "metadata": {},
      "outputs": [],
      "source": [
        "def compute_z_in(similarity, value):\n",
        "    \"\"\"\n",
        "    z_in is the intergrated(weighted sum) result of value and similarity componenet\n",
        "    \"\"\"\n",
        "    similarity = similarity.reshape(1, -1)\n",
        "\n",
        "    numerator = np.sum(similarity @ value)  # Sum the weighted contributions (scalar)\n",
        "    denominator = np.sum(similarity)        # Total sum of weights (scalar)\n",
        "    z_in = numerator / denominator         # Weighted average as a single scalar\n",
        "\n",
        "    return z_in\n"
      ]
    },
    {
      "cell_type": "markdown",
      "metadata": {},
      "source": [
        "### Process Samples for Training and Validation"
      ]
    },
    {
      "cell_type": "code",
      "execution_count": 89,
      "metadata": {},
      "outputs": [],
      "source": [
        "# test_i = test_df.iloc[i].values #shape (182,)\n",
        "# query_vector = test_embeddings[i] #shape (32,)\n",
        "# distances, indices = search_faiss(query_vector) # both shape (120,) and flatten\n",
        "# similarity, distances = compute_similarity(distances)\n",
        "# similarity, indices, distances = filter_by_mask(similarity, indices, distances)\n",
        "# value_Wv = compute_l1(distances) #shape (32,)\n",
        "# value_Wy = compute_wy(indices) #shape (32,)\n",
        "# value = compute_value(value_Wv, value_Wy)\n",
        "# z_in = compute_z_in(similarity, value)\n",
        "# input_to_mlp = test_i * z_in\n"
      ]
    },
    {
      "cell_type": "code",
      "execution_count": null,
      "metadata": {},
      "outputs": [],
      "source": [
        "def process_samples(train_df, train_embeddings):\n",
        "    \"\"\"\n",
        "    Processes all training samples and returns input tensor and labels.\n",
        "    \"\"\"\n",
        "    input_list = []\n",
        "    labels = []\n",
        "\n",
        "    for i in range(len(train_df)):\n",
        "        train_i = torch.tensor(train_df.iloc[i].values, dtype=torch.float32)  # shape (182,)\n",
        "        query_embedding = torch.tensor(train_embeddings[i], dtype=torch.float32)  # shape (32,)\n",
        "\n",
        "        distances, indices = search_faiss(query_embedding)\n",
        "        similarity, distances = compute_similarity(distances)\n",
        "        similarity, indices, distances = filter_by_mask(similarity, indices, distances)\n",
        "        value_Wv = compute_l1(distances)  # shape (32,)\n",
        "        value_Wy = compute_wy(indices)  # shape (32,)\n",
        "        value = compute_value(value_Wv, value_Wy)\n",
        "        z_in = compute_z_in(similarity, value)  # Scalar (single value)\n",
        "\n",
        "        # Append only train_i (input_emb) and z_in (weighted_avg), not query_embedding\n",
        "        z_in = torch.tensor(z_in, dtype=torch.float32)\n",
        "        input_list.append((train_i, z_in))\n",
        "\n",
        "        labels.append(torch.tensor(train_y.iloc[i]['isFraud'], dtype=torch.float32))  # Taking target labels\n",
        "\n",
        "    return input_list, labels\n"
      ]
    },
    {
      "cell_type": "code",
      "execution_count": null,
      "metadata": {},
      "outputs": [],
      "source": [
        "def val_process_samples(val_df, val_embeddings):\n",
        "    \"\"\"\n",
        "    Processes all validation samples and returns input tensor and labels.\n",
        "    \"\"\"\n",
        "    input_list = []\n",
        "    labels = []\n",
        "\n",
        "\n",
        "    for i in range(len(val_df)):  # Process all samples\n",
        "        test_i = torch.tensor(val_df.iloc[i].values, dtype=torch.float32)  # shape (182,)\n",
        "        query_embedding = torch.tensor(val_embeddings[i], dtype=torch.float32)  # shape (32,)\n",
        "\n",
        "        distances, indices = search_faiss(query_embedding)\n",
        "        similarity, distances = compute_similarity(distances)\n",
        "        similarity, indices, distances = filter_by_mask(similarity, indices, distances)\n",
        "        value_Wv = compute_l1(distances)  # shape (32,)\n",
        "        value_Wy = compute_wy(indices)  # shape (32,)\n",
        "        value = compute_value(value_Wv, value_Wy)\n",
        "        z_in = compute_z_in(similarity, value)  # Scalar (single value)\n",
        "\n",
        "        # Append only test_i (input_emb) and z_in (weighted_avg), not query_embedding\n",
        "        z_in = torch.tensor(z_in, dtype=torch.float32)\n",
        "\n",
        "        input_list.append((test_i, z_in))\n",
        "        labels.append(torch.tensor(val_y.iloc[i]['isFraud'], dtype=torch.float32))  # Taking target labels\n",
        "\n",
        "    return input_list, labels\n"
      ]
    },
    {
      "cell_type": "markdown",
      "metadata": {},
      "source": [
        "### Model Training"
      ]
    },
    {
      "cell_type": "code",
      "execution_count": 109,
      "metadata": {},
      "outputs": [],
      "source": [
        "import torch\n",
        "import torch.nn as nn\n",
        "\n",
        "class Predictor(nn.Module):\n",
        "    def __init__(self, input_emb_dim, hidden_dim=32, dropout_prob=0.2):\n",
        "        super(Predictor, self).__init__()\n",
        "        \n",
        "        self.input_dim = input_emb_dim + 1  # Adding 1 for weighted_avg\n",
        "\n",
        "        self.block1 = nn.Sequential(\n",
        "            nn.LayerNorm(self.input_dim),\n",
        "            nn.Linear(self.input_dim, hidden_dim),\n",
        "            nn.SiLU(),\n",
        "            nn.Dropout(dropout_prob),\n",
        "            nn.Linear(hidden_dim, hidden_dim),\n",
        "        )\n",
        "        \n",
        "        self.block2 = nn.Sequential(\n",
        "            nn.LayerNorm(hidden_dim),\n",
        "            nn.Linear(hidden_dim, hidden_dim),\n",
        "            nn.SiLU(),\n",
        "            nn.Dropout(dropout_prob),\n",
        "            nn.Linear(hidden_dim, hidden_dim),\n",
        "        )\n",
        "        \n",
        "        self.block3 = nn.Sequential(\n",
        "            nn.LayerNorm(hidden_dim),\n",
        "            nn.Linear(hidden_dim, hidden_dim),\n",
        "            nn.SiLU(),\n",
        "            nn.Dropout(dropout_prob),\n",
        "            nn.Linear(hidden_dim, hidden_dim),\n",
        "        )\n",
        "        \n",
        "        self.output_layer = nn.Sequential(\n",
        "            nn.Linear(hidden_dim, 1),\n",
        "            nn.Sigmoid()\n",
        "        )\n",
        "    \n",
        "    def forward(self, input_emb, weighted_avg):\n",
        "        # Ensure correct shape for scalar inputs\n",
        "        weighted_avg = weighted_avg.unsqueeze(-1)  \n",
        "    \n",
        "        # Concatenate all inputs\n",
        "        combined = torch.cat([input_emb, weighted_avg], dim=-1)\n",
        "\n",
        "        # Pass through MLP blocks\n",
        "        x = self.block1(combined)\n",
        "        x = self.block2(x)\n",
        "        x = self.block3(x)\n",
        "        x = self.output_layer(x)\n",
        "        return x\n"
      ]
    },
    {
      "cell_type": "code",
      "execution_count": 94,
      "metadata": {},
      "outputs": [
        {
          "name": "stdout",
          "output_type": "stream",
          "text": [
            "Epoch [1/100], Train Loss: 0.3308, Train AUCPR: 0.0379, Val Loss: 0.1395, Val AUCPR: 0.1846\n",
            "Epoch [2/100], Train Loss: 0.1334, Train AUCPR: 0.2154, Val Loss: 0.1264, Val AUCPR: 0.2747\n",
            "Epoch [3/100], Train Loss: 0.1238, Train AUCPR: 0.2799, Val Loss: 0.1185, Val AUCPR: 0.3230\n",
            "Epoch [4/100], Train Loss: 0.1188, Train AUCPR: 0.3100, Val Loss: 0.1159, Val AUCPR: 0.3354\n",
            "Epoch [5/100], Train Loss: 0.1165, Train AUCPR: 0.3259, Val Loss: 0.1146, Val AUCPR: 0.3421\n",
            "Epoch [6/100], Train Loss: 0.1152, Train AUCPR: 0.3360, Val Loss: 0.1137, Val AUCPR: 0.3462\n",
            "Epoch [7/100], Train Loss: 0.1142, Train AUCPR: 0.3435, Val Loss: 0.1131, Val AUCPR: 0.3494\n",
            "Epoch [8/100], Train Loss: 0.1134, Train AUCPR: 0.3496, Val Loss: 0.1126, Val AUCPR: 0.3518\n",
            "Epoch [9/100], Train Loss: 0.1127, Train AUCPR: 0.3550, Val Loss: 0.1122, Val AUCPR: 0.3544\n",
            "Epoch [10/100], Train Loss: 0.1121, Train AUCPR: 0.3599, Val Loss: 0.1118, Val AUCPR: 0.3569\n",
            "Epoch [11/100], Train Loss: 0.1116, Train AUCPR: 0.3646, Val Loss: 0.1115, Val AUCPR: 0.3594\n",
            "Epoch [12/100], Train Loss: 0.1110, Train AUCPR: 0.3692, Val Loss: 0.1113, Val AUCPR: 0.3616\n",
            "Epoch [13/100], Train Loss: 0.1105, Train AUCPR: 0.3736, Val Loss: 0.1110, Val AUCPR: 0.3636\n",
            "Epoch [14/100], Train Loss: 0.1100, Train AUCPR: 0.3779, Val Loss: 0.1107, Val AUCPR: 0.3653\n",
            "Epoch [15/100], Train Loss: 0.1095, Train AUCPR: 0.3821, Val Loss: 0.1105, Val AUCPR: 0.3672\n",
            "Epoch [16/100], Train Loss: 0.1090, Train AUCPR: 0.3863, Val Loss: 0.1103, Val AUCPR: 0.3692\n",
            "Epoch [17/100], Train Loss: 0.1086, Train AUCPR: 0.3904, Val Loss: 0.1101, Val AUCPR: 0.3704\n",
            "Epoch [18/100], Train Loss: 0.1081, Train AUCPR: 0.3944, Val Loss: 0.1099, Val AUCPR: 0.3718\n",
            "Epoch [19/100], Train Loss: 0.1076, Train AUCPR: 0.3984, Val Loss: 0.1097, Val AUCPR: 0.3734\n",
            "Epoch [20/100], Train Loss: 0.1071, Train AUCPR: 0.4025, Val Loss: 0.1095, Val AUCPR: 0.3749\n",
            "Epoch [21/100], Train Loss: 0.1067, Train AUCPR: 0.4066, Val Loss: 0.1093, Val AUCPR: 0.3763\n",
            "Epoch [22/100], Train Loss: 0.1062, Train AUCPR: 0.4107, Val Loss: 0.1092, Val AUCPR: 0.3776\n",
            "Epoch [23/100], Train Loss: 0.1057, Train AUCPR: 0.4147, Val Loss: 0.1090, Val AUCPR: 0.3792\n",
            "Epoch [24/100], Train Loss: 0.1053, Train AUCPR: 0.4189, Val Loss: 0.1089, Val AUCPR: 0.3808\n",
            "Epoch [25/100], Train Loss: 0.1048, Train AUCPR: 0.4230, Val Loss: 0.1087, Val AUCPR: 0.3824\n",
            "Epoch [26/100], Train Loss: 0.1043, Train AUCPR: 0.4272, Val Loss: 0.1086, Val AUCPR: 0.3838\n",
            "Epoch [27/100], Train Loss: 0.1038, Train AUCPR: 0.4314, Val Loss: 0.1085, Val AUCPR: 0.3856\n",
            "Epoch [28/100], Train Loss: 0.1034, Train AUCPR: 0.4356, Val Loss: 0.1084, Val AUCPR: 0.3872\n",
            "Epoch [29/100], Train Loss: 0.1029, Train AUCPR: 0.4397, Val Loss: 0.1083, Val AUCPR: 0.3886\n",
            "Epoch [30/100], Train Loss: 0.1024, Train AUCPR: 0.4439, Val Loss: 0.1082, Val AUCPR: 0.3902\n",
            "Epoch [31/100], Train Loss: 0.1020, Train AUCPR: 0.4480, Val Loss: 0.1082, Val AUCPR: 0.3915\n",
            "Epoch [32/100], Train Loss: 0.1015, Train AUCPR: 0.4522, Val Loss: 0.1081, Val AUCPR: 0.3927\n",
            "Epoch [33/100], Train Loss: 0.1010, Train AUCPR: 0.4563, Val Loss: 0.1081, Val AUCPR: 0.3940\n",
            "Epoch [34/100], Train Loss: 0.1006, Train AUCPR: 0.4602, Val Loss: 0.1080, Val AUCPR: 0.3950\n",
            "Epoch [35/100], Train Loss: 0.1002, Train AUCPR: 0.4640, Val Loss: 0.1080, Val AUCPR: 0.3962\n",
            "Epoch [36/100], Train Loss: 0.0998, Train AUCPR: 0.4677, Val Loss: 0.1080, Val AUCPR: 0.3974\n",
            "Epoch [37/100], Train Loss: 0.0994, Train AUCPR: 0.4713, Val Loss: 0.1080, Val AUCPR: 0.3982\n",
            "Epoch [38/100], Train Loss: 0.0990, Train AUCPR: 0.4748, Val Loss: 0.1080, Val AUCPR: 0.3988\n",
            "Epoch [39/100], Train Loss: 0.0986, Train AUCPR: 0.4781, Val Loss: 0.1080, Val AUCPR: 0.3992\n",
            "Epoch [40/100], Train Loss: 0.0982, Train AUCPR: 0.4814, Val Loss: 0.1080, Val AUCPR: 0.3998\n",
            "Epoch [41/100], Train Loss: 0.0978, Train AUCPR: 0.4846, Val Loss: 0.1080, Val AUCPR: 0.4003\n",
            "Epoch [42/100], Train Loss: 0.0975, Train AUCPR: 0.4877, Val Loss: 0.1079, Val AUCPR: 0.4009\n",
            "Epoch [43/100], Train Loss: 0.0971, Train AUCPR: 0.4907, Val Loss: 0.1079, Val AUCPR: 0.4012\n",
            "Epoch [44/100], Train Loss: 0.0968, Train AUCPR: 0.4935, Val Loss: 0.1079, Val AUCPR: 0.4018\n",
            "Epoch [45/100], Train Loss: 0.0965, Train AUCPR: 0.4963, Val Loss: 0.1079, Val AUCPR: 0.4024\n",
            "Epoch [46/100], Train Loss: 0.0961, Train AUCPR: 0.4992, Val Loss: 0.1079, Val AUCPR: 0.4029\n",
            "Epoch [47/100], Train Loss: 0.0958, Train AUCPR: 0.5019, Val Loss: 0.1079, Val AUCPR: 0.4035\n",
            "Epoch [48/100], Train Loss: 0.0955, Train AUCPR: 0.5046, Val Loss: 0.1079, Val AUCPR: 0.4042\n",
            "Epoch [49/100], Train Loss: 0.0952, Train AUCPR: 0.5071, Val Loss: 0.1078, Val AUCPR: 0.4051\n",
            "Epoch [50/100], Train Loss: 0.0949, Train AUCPR: 0.5096, Val Loss: 0.1078, Val AUCPR: 0.4056\n",
            "Epoch [51/100], Train Loss: 0.0946, Train AUCPR: 0.5122, Val Loss: 0.1078, Val AUCPR: 0.4064\n",
            "Epoch [52/100], Train Loss: 0.0943, Train AUCPR: 0.5147, Val Loss: 0.1078, Val AUCPR: 0.4068\n",
            "Epoch [53/100], Train Loss: 0.0940, Train AUCPR: 0.5171, Val Loss: 0.1078, Val AUCPR: 0.4073\n",
            "Epoch [54/100], Train Loss: 0.0937, Train AUCPR: 0.5195, Val Loss: 0.1078, Val AUCPR: 0.4080\n",
            "Epoch [55/100], Train Loss: 0.0934, Train AUCPR: 0.5218, Val Loss: 0.1078, Val AUCPR: 0.4085\n",
            "Epoch [56/100], Train Loss: 0.0931, Train AUCPR: 0.5241, Val Loss: 0.1077, Val AUCPR: 0.4090\n",
            "Epoch [57/100], Train Loss: 0.0928, Train AUCPR: 0.5263, Val Loss: 0.1077, Val AUCPR: 0.4095\n",
            "Epoch [58/100], Train Loss: 0.0925, Train AUCPR: 0.5286, Val Loss: 0.1077, Val AUCPR: 0.4100\n",
            "Epoch [59/100], Train Loss: 0.0923, Train AUCPR: 0.5308, Val Loss: 0.1077, Val AUCPR: 0.4106\n",
            "Epoch [60/100], Train Loss: 0.0920, Train AUCPR: 0.5329, Val Loss: 0.1077, Val AUCPR: 0.4112\n",
            "Epoch [61/100], Train Loss: 0.0917, Train AUCPR: 0.5351, Val Loss: 0.1077, Val AUCPR: 0.4117\n",
            "Epoch [62/100], Train Loss: 0.0915, Train AUCPR: 0.5372, Val Loss: 0.1077, Val AUCPR: 0.4122\n",
            "Epoch [63/100], Train Loss: 0.0912, Train AUCPR: 0.5392, Val Loss: 0.1077, Val AUCPR: 0.4129\n",
            "Epoch [64/100], Train Loss: 0.0910, Train AUCPR: 0.5413, Val Loss: 0.1077, Val AUCPR: 0.4136\n",
            "Epoch [65/100], Train Loss: 0.0907, Train AUCPR: 0.5433, Val Loss: 0.1078, Val AUCPR: 0.4140\n",
            "Epoch [66/100], Train Loss: 0.0905, Train AUCPR: 0.5452, Val Loss: 0.1078, Val AUCPR: 0.4145\n",
            "Epoch [67/100], Train Loss: 0.0902, Train AUCPR: 0.5471, Val Loss: 0.1078, Val AUCPR: 0.4149\n",
            "Epoch [68/100], Train Loss: 0.0900, Train AUCPR: 0.5491, Val Loss: 0.1078, Val AUCPR: 0.4150\n",
            "Epoch [69/100], Train Loss: 0.0898, Train AUCPR: 0.5509, Val Loss: 0.1079, Val AUCPR: 0.4153\n",
            "Epoch [70/100], Train Loss: 0.0895, Train AUCPR: 0.5528, Val Loss: 0.1079, Val AUCPR: 0.4156\n",
            "Epoch [71/100], Train Loss: 0.0893, Train AUCPR: 0.5546, Val Loss: 0.1079, Val AUCPR: 0.4159\n",
            "Epoch [72/100], Train Loss: 0.0891, Train AUCPR: 0.5563, Val Loss: 0.1080, Val AUCPR: 0.4163\n",
            "Epoch [73/100], Train Loss: 0.0888, Train AUCPR: 0.5581, Val Loss: 0.1080, Val AUCPR: 0.4164\n",
            "Epoch [74/100], Train Loss: 0.0886, Train AUCPR: 0.5598, Val Loss: 0.1081, Val AUCPR: 0.4165\n",
            "Epoch [75/100], Train Loss: 0.0884, Train AUCPR: 0.5615, Val Loss: 0.1082, Val AUCPR: 0.4166\n",
            "Epoch [76/100], Train Loss: 0.0882, Train AUCPR: 0.5631, Val Loss: 0.1082, Val AUCPR: 0.4162\n",
            "Epoch [77/100], Train Loss: 0.0880, Train AUCPR: 0.5648, Val Loss: 0.1083, Val AUCPR: 0.4162\n",
            "Epoch [78/100], Train Loss: 0.0878, Train AUCPR: 0.5665, Val Loss: 0.1084, Val AUCPR: 0.4161\n",
            "Epoch [79/100], Train Loss: 0.0876, Train AUCPR: 0.5681, Val Loss: 0.1084, Val AUCPR: 0.4159\n",
            "Epoch [80/100], Train Loss: 0.0873, Train AUCPR: 0.5696, Val Loss: 0.1085, Val AUCPR: 0.4159\n",
            "Epoch [81/100], Train Loss: 0.0871, Train AUCPR: 0.5712, Val Loss: 0.1086, Val AUCPR: 0.4158\n",
            "Epoch [82/100], Train Loss: 0.0869, Train AUCPR: 0.5727, Val Loss: 0.1087, Val AUCPR: 0.4156\n",
            "Epoch [83/100], Train Loss: 0.0867, Train AUCPR: 0.5742, Val Loss: 0.1088, Val AUCPR: 0.4154\n",
            "Epoch [84/100], Train Loss: 0.0865, Train AUCPR: 0.5757, Val Loss: 0.1089, Val AUCPR: 0.4154\n",
            "Epoch [85/100], Train Loss: 0.0863, Train AUCPR: 0.5772, Val Loss: 0.1090, Val AUCPR: 0.4150\n",
            "Epoch [86/100], Train Loss: 0.0862, Train AUCPR: 0.5786, Val Loss: 0.1091, Val AUCPR: 0.4148\n",
            "Epoch [87/100], Train Loss: 0.0860, Train AUCPR: 0.5800, Val Loss: 0.1092, Val AUCPR: 0.4146\n",
            "Epoch [88/100], Train Loss: 0.0858, Train AUCPR: 0.5815, Val Loss: 0.1093, Val AUCPR: 0.4144\n",
            "Epoch [89/100], Train Loss: 0.0856, Train AUCPR: 0.5829, Val Loss: 0.1094, Val AUCPR: 0.4142\n",
            "Epoch [90/100], Train Loss: 0.0854, Train AUCPR: 0.5843, Val Loss: 0.1096, Val AUCPR: 0.4142\n",
            "Epoch [91/100], Train Loss: 0.0852, Train AUCPR: 0.5857, Val Loss: 0.1097, Val AUCPR: 0.4141\n",
            "Epoch [92/100], Train Loss: 0.0850, Train AUCPR: 0.5870, Val Loss: 0.1098, Val AUCPR: 0.4141\n",
            "Epoch [93/100], Train Loss: 0.0849, Train AUCPR: 0.5884, Val Loss: 0.1100, Val AUCPR: 0.4140\n",
            "Epoch [94/100], Train Loss: 0.0847, Train AUCPR: 0.5897, Val Loss: 0.1101, Val AUCPR: 0.4136\n",
            "Epoch [95/100], Train Loss: 0.0845, Train AUCPR: 0.5910, Val Loss: 0.1103, Val AUCPR: 0.4133\n",
            "Epoch [96/100], Train Loss: 0.0843, Train AUCPR: 0.5923, Val Loss: 0.1104, Val AUCPR: 0.4131\n",
            "Epoch [97/100], Train Loss: 0.0842, Train AUCPR: 0.5936, Val Loss: 0.1106, Val AUCPR: 0.4128\n",
            "Epoch [98/100], Train Loss: 0.0840, Train AUCPR: 0.5949, Val Loss: 0.1107, Val AUCPR: 0.4126\n",
            "Epoch [99/100], Train Loss: 0.0838, Train AUCPR: 0.5962, Val Loss: 0.1109, Val AUCPR: 0.4124\n",
            "Epoch [100/100], Train Loss: 0.0836, Train AUCPR: 0.5975, Val Loss: 0.1111, Val AUCPR: 0.4120\n"
          ]
        }
      ],
      "source": [
        "import torch.optim as optim\n",
        "import torch.nn as nn\n",
        "from torch.utils.data import DataLoader, TensorDataset\n",
        "from sklearn.metrics import average_precision_score\n",
        "import torch\n",
        "\n",
        "def train_model(train_df, train_embeddings, model, optimizer, criterion, batch_size=256, epochs=25):\n",
        "    model.train()\n",
        "    \n",
        "    # Process data\n",
        "    input_list, labels = process_samples(train_df, train_embeddings)\n",
        "    val_input_list, val_labels = val_process_samples(val_df, val_embeddings)\n",
        "\n",
        "    train_dataset = TensorDataset(\n",
        "        torch.stack([item[0] for item in input_list]),  # test_i (input_emb)\n",
        "        torch.stack([item[1] for item in input_list]),  # z_in (weighted_avg)\n",
        "        torch.stack(labels)\n",
        "    )\n",
        "\n",
        "    val_dataset = TensorDataset(\n",
        "        torch.stack([item[0] for item in val_input_list]),  # test_i (input_emb)\n",
        "        torch.stack([item[1] for item in val_input_list]),  # z_in (weighted_avg)\n",
        "        torch.stack(val_labels)\n",
        "    )\n",
        "\n",
        "    train_dataloader = DataLoader(train_dataset, batch_size=batch_size, shuffle=False)\n",
        "    val_dataloader = DataLoader(val_dataset, batch_size=batch_size, shuffle=False)\n",
        "\n",
        "    # Training loop\n",
        "    for epoch in range(epochs):\n",
        "        epoch_loss = 0\n",
        "        all_targets = []\n",
        "        all_outputs = []\n",
        "\n",
        "        for batch in train_dataloader:\n",
        "            input_emb, z_in, target = batch\n",
        "            target = target.unsqueeze(-1)  # Make target shape (batch_size, 1)\n",
        "\n",
        "            optimizer.zero_grad()\n",
        "            output = model(input_emb, z_in)\n",
        "\n",
        "            loss = criterion(output, target)\n",
        "            loss.backward()\n",
        "            optimizer.step()\n",
        "\n",
        "            epoch_loss += loss.item()  # Accumulate loss for epoch\n",
        "            \n",
        "            # Collect predictions & targets for AUCPR\n",
        "            all_outputs.append(output.detach().cpu())  # Move to CPU to avoid memory issues\n",
        "            all_targets.append(target.detach().cpu())\n",
        "\n",
        "        # Compute AUCPR at the end of the epoch\n",
        "        all_outputs = torch.cat(all_outputs).numpy()\n",
        "        all_targets = torch.cat(all_targets).numpy()\n",
        "        aucpr = average_precision_score(all_targets, all_outputs)\n",
        "\n",
        "\n",
        "        # Validation Step\n",
        "        model.eval()\n",
        "        val_loss = 0\n",
        "        all_val_targets = []\n",
        "        all_val_outputs = []\n",
        "\n",
        "        with torch.no_grad():  # No gradient computation for validation\n",
        "            for batch in val_dataloader:\n",
        "                input_emb, z_in, target = batch\n",
        "                target = target.unsqueeze(-1)\n",
        "\n",
        "                output = model(input_emb, z_in)\n",
        "                loss = criterion(output, target)\n",
        "\n",
        "                val_loss += loss.item()\n",
        "                \n",
        "                all_val_outputs.append(output.cpu())\n",
        "                all_val_targets.append(target.cpu())\n",
        "\n",
        "        # Compute AUCPR for validation set\n",
        "        all_val_outputs = torch.cat(all_val_outputs).numpy()\n",
        "        all_val_targets = torch.cat(all_val_targets).numpy()\n",
        "\n",
        "        val_aucpr = average_precision_score(all_val_targets, all_val_outputs)\n",
        "\n",
        "        print(f\"Epoch [{epoch+1}/{epochs}], \"\n",
        "              f\"Train Loss: {epoch_loss/len(train_dataloader):.4f}, Train AUCPR: {aucpr:.4f}, \"\n",
        "              f\"Val Loss: {val_loss/len(val_dataloader):.4f}, Val AUCPR: {val_aucpr:.4f}\")\n",
        "\n",
        "\n",
        "# Model, optimizer, and loss function\n",
        "input_emb_dim = 182  # Assuming this based on test_df features\n",
        "model = Predictor(input_emb_dim=input_emb_dim)\n",
        "optimizer = optim.AdamW(model.parameters(), lr=0.0001)\n",
        "criterion = nn.BCELoss()\n",
        "\n",
        "train_model(train_df, train_embeddings, model, optimizer, criterion, epochs=100)\n"
      ]
    },
    {
      "cell_type": "markdown",
      "metadata": {},
      "source": [
        "## Inference"
      ]
    },
    {
      "cell_type": "code",
      "execution_count": 95,
      "metadata": {},
      "outputs": [],
      "source": [
        "def test_process_samples(test_df, test_embeddings):\n",
        "    \"\"\"\n",
        "    Processes all samples and returns input tensor and labels.\n",
        "    \"\"\"\n",
        "    input_list = []\n",
        "    labels = []\n",
        "\n",
        "    for i in range(len(test_df)):  # Process all samples\n",
        "        test_i = torch.tensor(test_df.iloc[i].values, dtype=torch.float32)  # shape (182,)\n",
        "        query_embedding = torch.tensor(test_embeddings[i], dtype=torch.float32)  # shape (32,)\n",
        "\n",
        "        distances, indices = search_faiss(query_embedding)\n",
        "        similarity, distances = compute_similarity(distances)\n",
        "        similarity, indices, distances = filter_by_mask(similarity, indices, distances)\n",
        "        value_Wv = compute_l1(distances)  # shape (32,)\n",
        "        value_Wy = compute_wy(indices)  # shape (32,)\n",
        "        value = compute_value(value_Wv, value_Wy)\n",
        "        z_in = compute_z_in(similarity, value)  # Scalar (single value)\n",
        "\n",
        "        # Append only test_i (input_emb) and z_in (weighted_avg), not query_embedding\n",
        "        z_in = torch.tensor(z_in, dtype=torch.float32)\n",
        "\n",
        "        input_list.append((test_i, z_in))\n",
        "        labels.append(torch.tensor(test_y.iloc[i]['isFraud'], dtype=torch.float32))  # Taking target labels\n",
        "\n",
        "    return input_list, labels\n"
      ]
    },
    {
      "cell_type": "code",
      "execution_count": 96,
      "metadata": {},
      "outputs": [],
      "source": [
        "test_input_list, test_input_labels = test_process_samples(test_df=test_df, test_embeddings=test_embeddings)"
      ]
    },
    {
      "cell_type": "code",
      "execution_count": 97,
      "metadata": {},
      "outputs": [
        {
          "name": "stdout",
          "output_type": "stream",
          "text": [
            "Test AUCPR: 0.4201159628856508\n"
          ]
        }
      ],
      "source": [
        "import torch\n",
        "from torch.utils.data import DataLoader, TensorDataset\n",
        "\n",
        "def inference(model, test_df, test_embeddings, batch_size=256):\n",
        "    \"\"\"\n",
        "    Perform inference on test data using a trained model.\n",
        "    \n",
        "    Args:\n",
        "        model (nn.Module): Trained model.\n",
        "        test_df (pd.DataFrame): Your test dataframe.\n",
        "        test_embeddings (np.ndarray or torch.Tensor): Precomputed embeddings for test.\n",
        "        batch_size (int): Batch size for inference.\n",
        "\n",
        "    Returns:\n",
        "        all_outputs (np.ndarray): Model outputs (probabilities).\n",
        "        all_labels (np.ndarray): Ground truth labels.\n",
        "    \"\"\"\n",
        "\n",
        "    model.eval()\n",
        "\n",
        "    test_dataset = TensorDataset(\n",
        "        torch.stack([item[0] for item in test_input_list]),  # test_i (input_emb)\n",
        "        torch.stack([item[1] for item in test_input_list]),  # z_in (weighted_avg)\n",
        "        torch.stack(test_input_labels)                             # Labels\n",
        "    )\n",
        "    test_dataloader = DataLoader(test_dataset, batch_size=batch_size, shuffle=False)\n",
        "\n",
        "    # Lists to store outputs and labels\n",
        "    all_outputs = []\n",
        "    all_labels = []\n",
        "\n",
        "    # No gradient updates during inference\n",
        "    with torch.no_grad():\n",
        "        for batch in test_dataloader:\n",
        "            input_emb, z_in, labels = batch\n",
        "            outputs = model(input_emb, z_in)\n",
        "            \n",
        "            # Move outputs and labels to CPU, then store\n",
        "            all_outputs.append(outputs.cpu())\n",
        "            all_labels.append(labels.cpu())\n",
        "\n",
        "    # Concatenate everything into a single array/tensor\n",
        "    all_outputs = torch.cat(all_outputs).numpy()\n",
        "    all_labels = torch.cat(all_labels).numpy()\n",
        "\n",
        "    return all_outputs, all_labels\n",
        "\n",
        "all_test_outputs, all_test_labels = inference(model, test_df, test_embeddings, batch_size=256)\n",
        "\n",
        "# Optionally, compute metrics (e.g., AUCPR) on your test set:\n",
        "from sklearn.metrics import average_precision_score\n",
        "test_aucpr = average_precision_score(all_test_labels, all_test_outputs)\n",
        "print(\"Test AUCPR:\", test_aucpr)\n",
        "\n",
        "# Or create a final binary prediction if desired:\n",
        "binary_predictions = (all_test_outputs >= 0.5).astype(int)\n"
      ]
    },
    {
      "cell_type": "code",
      "execution_count": 37,
      "metadata": {},
      "outputs": [
        {
          "name": "stdout",
          "output_type": "stream",
          "text": [
            "Value 0: 23319 occurrences\n",
            "Value 1: 303 occurrences\n"
          ]
        }
      ],
      "source": [
        "import numpy as np\n",
        "\n",
        "# Count occurrences of each unique value (0s and 1s)\n",
        "unique_values, counts = np.unique(binary_predictions, return_counts=True)\n",
        "\n",
        "# Print results\n",
        "for value, count in zip(unique_values, counts):\n",
        "    print(f\"Value {value}: {count} occurrences\")\n"
      ]
    },
    {
      "cell_type": "code",
      "execution_count": 38,
      "metadata": {},
      "outputs": [
        {
          "data": {
            "text/plain": [
              "23622"
            ]
          },
          "execution_count": 38,
          "metadata": {},
          "output_type": "execute_result"
        }
      ],
      "source": [
        "len(test_input_list)"
      ]
    }
  ],
  "metadata": {
    "colab": {
      "provenance": []
    },
    "kernelspec": {
      "display_name": "saint_env",
      "language": "python",
      "name": "python3"
    },
    "language_info": {
      "codemirror_mode": {
        "name": "ipython",
        "version": 3
      },
      "file_extension": ".py",
      "mimetype": "text/x-python",
      "name": "python",
      "nbconvert_exporter": "python",
      "pygments_lexer": "ipython3",
      "version": "3.8.20"
    }
  },
  "nbformat": 4,
  "nbformat_minor": 0
}
