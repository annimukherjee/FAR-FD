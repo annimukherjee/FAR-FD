{
 "cells": [
  {
   "cell_type": "markdown",
   "metadata": {
    "vscode": {
     "languageId": "plaintext"
    }
   },
   "source": [
    "# Load the datasets"
   ]
  },
  {
   "cell_type": "markdown",
   "metadata": {},
   "source": [
    " This Script Splits the test.csv and test_y.csv into 6 dataframes, namely train_df, val_df and test_df and their corresponding 3 labels which is train_y_df, val_y_df and test_y_df."
   ]
  },
  {
   "cell_type": "code",
   "execution_count": null,
   "metadata": {},
   "outputs": [
    {
     "name": "stdout",
     "output_type": "stream",
     "text": [
      "Train size: 76770\n",
      "Validation size: 17716\n",
      "Test size: 23622\n",
      "Train DataFrame:\n",
      "    cls  ProductCD  card4  card6  P_emaildomain  Unnamed: 0  TransactionDT  \\\n",
      "0    0          4      2      1              2   -0.291883      -0.329939   \n",
      "1    0          4      3      2             16    0.892993       0.871243   \n",
      "2    0          4      2      2              1   -1.594876      -1.467121   \n",
      "3    0          4      3      2             19   -0.123148      -0.156138   \n",
      "4    0          4      3      2             16    1.611964       1.677853   \n",
      "\n",
      "   TransactionAmt     card1     card2  ...      V312      V313      V314  \\\n",
      "0        0.108390 -0.145421 -0.399322  ... -0.227583 -0.222385 -0.249222   \n",
      "1       -0.359702  0.680504 -0.412094  ... -0.030054 -0.222385 -0.249222   \n",
      "2        8.134522 -0.109308  0.711822  ... -0.227583 -0.222385 -0.249222   \n",
      "3       -0.422421  1.487250 -0.265218  ...  0.341765 -0.222385 -0.249222   \n",
      "4       -0.317889 -0.081355 -0.265218  ... -0.227583 -0.222385 -0.249222   \n",
      "\n",
      "       V315      V316      V317      V318      V319      V320      V321  \n",
      "0 -0.229148 -0.048377 -0.062211 -0.058049 -0.055287 -0.088855 -0.074142  \n",
      "1 -0.229148 -0.048377 -0.062211 -0.058049 -0.055287 -0.088855 -0.074142  \n",
      "2 -0.229148 -0.048377 -0.062211 -0.058049 -0.055287 -0.088855 -0.074142  \n",
      "3 -0.229148 -0.048377 -0.062211 -0.058049 -0.055287 -0.088855 -0.074142  \n",
      "4 -0.229148 -0.048377 -0.062211 -0.058049 -0.055287 -0.088855 -0.074142  \n",
      "\n",
      "[5 rows x 182 columns]\n",
      "Validation DataFrame:\n",
      "        cls  ProductCD  card4  card6  P_emaildomain  Unnamed: 0  TransactionDT  \\\n",
      "76770    0          0      3      1             19   -0.686575      -0.755813   \n",
      "76771    0          4      3      2              2    0.870093       0.848012   \n",
      "76772    0          4      2      1             53   -1.639000      -1.503870   \n",
      "76773    0          4      3      1             16   -1.702370      -1.559398   \n",
      "76774    0          0      3      2             16    0.299080       0.253498   \n",
      "\n",
      "       TransactionAmt     card1     card2  ...      V312      V313      V314  \\\n",
      "76770       -0.325382  0.747427  1.229079  ... -0.039941  0.114739 -0.063005   \n",
      "76771       -0.075376  1.139578  0.354213  ...  1.759326 -0.222385 -0.249222   \n",
      "76772       -0.430992  1.054292 -1.229487  ... -0.227583 -0.222385 -0.249222   \n",
      "76773        4.218775  0.365477 -1.606254  ... -0.227583 -0.222385 -0.249222   \n",
      "76774       -0.342015  0.003727 -1.408292  ... -0.227583 -0.222385 -0.249222   \n",
      "\n",
      "           V315      V316      V317      V318      V319      V320      V321  \n",
      "76770  0.047534 -0.048377 -0.062211 -0.058049 -0.055287 -0.088855 -0.074142  \n",
      "76771 -0.229148 -0.048377 -0.062211 -0.058049 -0.055287 -0.088855 -0.074142  \n",
      "76772 -0.229148 -0.048377 -0.062211 -0.058049 -0.055287 -0.088855 -0.074142  \n",
      "76773 -0.229148 -0.048377 -0.062211 -0.058049 -0.055287 -0.088855 -0.074142  \n",
      "76774 -0.229148 -0.048377 -0.062211 -0.058049 -0.055287 -0.088855 -0.074142  \n",
      "\n",
      "[5 rows x 182 columns]\n",
      "Test DataFrame:\n",
      "        cls  ProductCD  card4  card6  P_emaildomain  Unnamed: 0  TransactionDT  \\\n",
      "94486    0          4      3      2             16    1.138380       1.167520   \n",
      "94487    0          4      3      2             53    0.848746       0.816925   \n",
      "94488    0          4      2      2             16    1.621297       1.692086   \n",
      "94489    0          4      2      1             16   -0.410258      -0.442129   \n",
      "94490    0          4      3      2             16   -0.820056      -0.901357   \n",
      "\n",
      "       TransactionAmt     card1     card2  ...      V312      V313      V314  \\\n",
      "94486       -0.075376 -0.700595  1.229079  ... -0.227583 -0.222385 -0.249222   \n",
      "94487       -0.317889  0.964926  1.516444  ... -0.227583 -0.222385 -0.249222   \n",
      "94488       -0.359702 -0.403931 -1.076226  ... -0.227583 -0.222385 -0.249222   \n",
      "94489        1.412859  1.161614  0.839540  ... -0.227583 -0.222385 -0.249222   \n",
      "94490       -0.108826  0.593382 -1.216715  ...  3.953930 -0.222385 -0.249222   \n",
      "\n",
      "           V315      V316      V317      V318      V319      V320      V321  \n",
      "94486 -0.229148 -0.048377 -0.062211 -0.058049 -0.055287 -0.088855 -0.074142  \n",
      "94487 -0.229148 -0.048377 -0.062211 -0.058049 -0.055287 -0.088855 -0.074142  \n",
      "94488 -0.229148 -0.048377 -0.062211 -0.058049 -0.055287 -0.088855 -0.074142  \n",
      "94489 -0.229148 -0.048377 -0.062211 -0.058049  1.367908  0.909953  1.163735  \n",
      "94490 -0.229148 -0.048377  0.245577  0.380498 -0.055287  3.140327 -0.074142  \n",
      "\n",
      "[5 rows x 182 columns]\n"
     ]
    }
   ],
   "source": [
    "import pandas as pd\n",
    "\n",
    "# Read CSV file, test.csv is generated by the SAINT repo's training notebook\n",
    "df = pd.read_csv(\"/Users/adityasingh/Desktop/DESKTOP/Reranked-Reasoned-Retrieval-Augmented-Financial-Fraud-Detection/IEEE-Preprocess/test.csv\")\n",
    "\n",
    "# Calculate sizes\n",
    "total_samples = len(df)\n",
    "train_size = int(0.65 * total_samples)  # 65%\n",
    "val_size = int(0.15 * total_samples)    # 15%\n",
    "test_size = total_samples - (train_size + val_size)  # Remaining 20%\n",
    "\n",
    "# Perform slicing\n",
    "train_df = df.iloc[:train_size]\n",
    "val_df = df.iloc[train_size:train_size + val_size]\n",
    "test_df = df.iloc[train_size + val_size:]\n",
    "\n",
    "# Print sizes\n",
    "print(f\"Train size: {len(train_df)}\")\n",
    "print(f\"Validation size: {len(val_df)}\")\n",
    "print(f\"Test size: {len(test_df)}\")\n",
    "\n",
    "# Verify split correctness\n",
    "print(\"Train DataFrame:\\n\", train_df.head())\n",
    "print(\"Validation DataFrame:\\n\", val_df.head())\n",
    "print(\"Test DataFrame:\\n\", test_df.head())\n"
   ]
  },
  {
   "cell_type": "code",
   "execution_count": 11,
   "metadata": {},
   "outputs": [],
   "source": [
    "# Saving the divided datasets\n",
    "\n",
    "train_df.to_csv(\"train_df.csv\", index=False)\n",
    "val_df.to_csv(\"val_df.csv\", index=False)\n",
    "test_df.to_csv(\"test_df.csv\", index=False)"
   ]
  },
  {
   "cell_type": "code",
   "execution_count": 9,
   "metadata": {},
   "outputs": [
    {
     "data": {
      "text/plain": [
       "(118108, 182)"
      ]
     },
     "execution_count": 9,
     "metadata": {},
     "output_type": "execute_result"
    }
   ],
   "source": [
    "df.shape"
   ]
  },
  {
   "cell_type": "code",
   "execution_count": null,
   "metadata": {},
   "outputs": [
    {
     "name": "stdout",
     "output_type": "stream",
     "text": [
      "Train size: 76770\n",
      "Validation size: 17716\n",
      "Test size: 23622\n",
      "Train DataFrame:\n",
      "    isFraud\n",
      "0      0.0\n",
      "1      0.0\n",
      "2      0.0\n",
      "3      0.0\n",
      "4      0.0\n",
      "Validation DataFrame:\n",
      "        isFraud\n",
      "76770      0.0\n",
      "76771      0.0\n",
      "76772      0.0\n",
      "76773      0.0\n",
      "76774      0.0\n",
      "Test DataFrame:\n",
      "        isFraud\n",
      "94486      0.0\n",
      "94487      0.0\n",
      "94488      0.0\n",
      "94489      0.0\n",
      "94490      0.0\n"
     ]
    }
   ],
   "source": [
    "import pandas as pd\n",
    "\n",
    "# Read CSV file, test_y.csv is generated by the SAINT repo's training notebook\n",
    "test_y_df = pd.read_csv(\"/Users/adityasingh/Desktop/DESKTOP/Reranked-Reasoned-Retrieval-Augmented-Financial-Fraud-Detection/IEEE-Preprocess/test_y.csv\")\n",
    "\n",
    "# Calculate sizes\n",
    "total_samples = len(test_y_df)\n",
    "train_size = int(0.65 * total_samples)  # 65%\n",
    "val_size = int(0.15 * total_samples)    # 15%\n",
    "test_size = total_samples - (train_size + val_size)  # Remaining 20%\n",
    "\n",
    "# Perform slicing\n",
    "train_y_df = test_y_df.iloc[:train_size]\n",
    "val_y_df = test_y_df.iloc[train_size:train_size + val_size]\n",
    "test_y_df = test_y_df.iloc[train_size + val_size:]\n",
    "\n",
    "# Print sizes\n",
    "print(f\"Train size: {len(train_y_df)}\")\n",
    "print(f\"Validation size: {len(val_y_df)}\")\n",
    "print(f\"Test size: {len(test_y_df)}\")\n",
    "\n",
    "# Verify split correctness\n",
    "print(\"Train DataFrame:\\n\", train_y_df.head())\n",
    "print(\"Validation DataFrame:\\n\", val_y_df.head())\n",
    "print(\"Test DataFrame:\\n\", test_y_df.head())\n"
   ]
  },
  {
   "cell_type": "code",
   "execution_count": 13,
   "metadata": {},
   "outputs": [],
   "source": [
    "# Saving the divided datasets\n",
    "\n",
    "train_y_df.to_csv(\"train_y_df.csv\", index=False)\n",
    "val_y_df.to_csv(\"val_y_df.csv\", index=False)\n",
    "test_y_df.to_csv(\"test_y_df.csv\", index=False)"
   ]
  }
 ],
 "metadata": {
  "kernelspec": {
   "display_name": ".venv",
   "language": "python",
   "name": "python3"
  },
  "language_info": {
   "codemirror_mode": {
    "name": "ipython",
    "version": 3
   },
   "file_extension": ".py",
   "mimetype": "text/x-python",
   "name": "python",
   "nbconvert_exporter": "python",
   "pygments_lexer": "ipython3",
   "version": "3.12.7"
  }
 },
 "nbformat": 4,
 "nbformat_minor": 2
}
